{
 "cells": [
  {
   "cell_type": "markdown",
   "id": "57c33587",
   "metadata": {},
   "source": [
    "### Importing all libraries"
   ]
  },
  {
   "cell_type": "code",
   "execution_count": 1,
   "id": "8f7968f9",
   "metadata": {},
   "outputs": [],
   "source": [
    "import pandas as pd\n",
    "import numpy as np\n",
    "import matplotlib.pyplot as plt\n",
    "import seaborn as sns\n",
    "%matplotlib inline\n",
    "import warnings;\n",
    "warnings.filterwarnings('ignore')"
   ]
  },
  {
   "cell_type": "markdown",
   "id": "5e1cf2c3-5433-4adc-bcfd-f85e47fe575c",
   "metadata": {},
   "source": [
    "1. **distance_from_home:** This could represent the distance between the location of the transaction and the cardholder's registered home address. Unusual distances might be flagged for further investigation.\n",
    "\n",
    "2. **distance_from_last_transaction:** This feature may indicate the spatial gap between the current transaction and the last one. Sudden large distances could be a potential red flag for fraud.\n",
    "\n",
    "3. **ratio_to_median_purchase_price:** This could be the ratio of the current purchase price to the median purchase price of the cardholder. Unusual ratios might indicate abnormal spending behavior.\n",
    "\n",
    "4. **repeat_retailer:** Indicates whether the transaction involves a retailer that the cardholder has transacted with before. Frequent transactions with new retailers might be a sign of fraud.\n",
    "\n",
    "5. **used_chip:** Whether the chip on the credit card was used for the transaction. Chip usage is generally considered more secure than magnetic stripe transactions.\n",
    "\n",
    "6. **used_pin_number:** Indicates whether a PIN (Personal Identification Number) was used for the transaction. PIN usage adds an extra layer of security.\n",
    "\n",
    "7. **online_order:** This binary feature likely indicates whether the transaction was conducted online. Online transactions can be more susceptible to fraud, so this information is crucial for risk assessment.\n",
    "\n",
    "8. **fraud:** The target variable indicating whether the transaction is fraudulent or not. This is likely the label for the supervised learning task, with the goal of predicting fraud based on the other features."
   ]
  },
  {
   "cell_type": "code",
   "execution_count": 2,
   "id": "7b6493e3",
   "metadata": {},
   "outputs": [],
   "source": [
    "cred_data = pd.read_csv('card_transdata.csv')"
   ]
  },
  {
   "cell_type": "code",
   "execution_count": 3,
   "id": "eefccbce",
   "metadata": {},
   "outputs": [
    {
     "data": {
      "text/html": [
       "<div>\n",
       "<style scoped>\n",
       "    .dataframe tbody tr th:only-of-type {\n",
       "        vertical-align: middle;\n",
       "    }\n",
       "\n",
       "    .dataframe tbody tr th {\n",
       "        vertical-align: top;\n",
       "    }\n",
       "\n",
       "    .dataframe thead th {\n",
       "        text-align: right;\n",
       "    }\n",
       "</style>\n",
       "<table border=\"1\" class=\"dataframe\">\n",
       "  <thead>\n",
       "    <tr style=\"text-align: right;\">\n",
       "      <th></th>\n",
       "      <th>distance_from_home</th>\n",
       "      <th>distance_from_last_transaction</th>\n",
       "      <th>ratio_to_median_purchase_price</th>\n",
       "      <th>repeat_retailer</th>\n",
       "      <th>used_chip</th>\n",
       "      <th>used_pin_number</th>\n",
       "      <th>online_order</th>\n",
       "      <th>fraud</th>\n",
       "    </tr>\n",
       "  </thead>\n",
       "  <tbody>\n",
       "    <tr>\n",
       "      <th>0</th>\n",
       "      <td>57.877857</td>\n",
       "      <td>0.311140</td>\n",
       "      <td>1.945940</td>\n",
       "      <td>1</td>\n",
       "      <td>1</td>\n",
       "      <td>0</td>\n",
       "      <td>0</td>\n",
       "      <td>0</td>\n",
       "    </tr>\n",
       "    <tr>\n",
       "      <th>1</th>\n",
       "      <td>10.829943</td>\n",
       "      <td>0.175592</td>\n",
       "      <td>1.294219</td>\n",
       "      <td>1</td>\n",
       "      <td>0</td>\n",
       "      <td>0</td>\n",
       "      <td>0</td>\n",
       "      <td>0</td>\n",
       "    </tr>\n",
       "    <tr>\n",
       "      <th>2</th>\n",
       "      <td>5.091079</td>\n",
       "      <td>0.805153</td>\n",
       "      <td>0.427715</td>\n",
       "      <td>1</td>\n",
       "      <td>0</td>\n",
       "      <td>0</td>\n",
       "      <td>1</td>\n",
       "      <td>0</td>\n",
       "    </tr>\n",
       "    <tr>\n",
       "      <th>3</th>\n",
       "      <td>2.247564</td>\n",
       "      <td>5.600044</td>\n",
       "      <td>0.362663</td>\n",
       "      <td>1</td>\n",
       "      <td>1</td>\n",
       "      <td>0</td>\n",
       "      <td>1</td>\n",
       "      <td>0</td>\n",
       "    </tr>\n",
       "    <tr>\n",
       "      <th>4</th>\n",
       "      <td>44.190936</td>\n",
       "      <td>0.566486</td>\n",
       "      <td>2.222767</td>\n",
       "      <td>1</td>\n",
       "      <td>1</td>\n",
       "      <td>0</td>\n",
       "      <td>1</td>\n",
       "      <td>0</td>\n",
       "    </tr>\n",
       "  </tbody>\n",
       "</table>\n",
       "</div>"
      ],
      "text/plain": [
       "   distance_from_home  distance_from_last_transaction  \\\n",
       "0           57.877857                        0.311140   \n",
       "1           10.829943                        0.175592   \n",
       "2            5.091079                        0.805153   \n",
       "3            2.247564                        5.600044   \n",
       "4           44.190936                        0.566486   \n",
       "\n",
       "   ratio_to_median_purchase_price  repeat_retailer  used_chip  \\\n",
       "0                        1.945940                1          1   \n",
       "1                        1.294219                1          0   \n",
       "2                        0.427715                1          0   \n",
       "3                        0.362663                1          1   \n",
       "4                        2.222767                1          1   \n",
       "\n",
       "   used_pin_number  online_order  fraud  \n",
       "0                0             0      0  \n",
       "1                0             0      0  \n",
       "2                0             1      0  \n",
       "3                0             1      0  \n",
       "4                0             1      0  "
      ]
     },
     "execution_count": 3,
     "metadata": {},
     "output_type": "execute_result"
    }
   ],
   "source": [
    "cred_data.head()"
   ]
  },
  {
   "cell_type": "code",
   "execution_count": 4,
   "id": "afaa9467",
   "metadata": {},
   "outputs": [
    {
     "data": {
      "text/plain": [
       "<Axes: xlabel='fraud', ylabel='count'>"
      ]
     },
     "execution_count": 4,
     "metadata": {},
     "output_type": "execute_result"
    },
    {
     "data": {
      "image/png": "[encoded data removed]",
      "text/plain": [
       "<Figure size 500x400 with 1 Axes>"
      ]
     },
     "metadata": {},
     "output_type": "display_data"
    }
   ],
   "source": [
    "# Distribution of classes\n",
    "\n",
    "plt.figure(figsize=(5,4))\n",
    "sns.countplot(cred_data, x='fraud')"
   ]
  },
  {
   "cell_type": "code",
   "execution_count": 5,
   "id": "f29f0aa0",
   "metadata": {},
   "outputs": [
    {
     "data": {
      "image/png": "[encoded data removed]",
      "text/plain": [
       "<Figure size 700x500 with 4 Axes>"
      ]
     },
     "metadata": {},
     "output_type": "display_data"
    }
   ],
   "source": [
    "cols = ['repeat_retailer', 'used_chip', 'used_pin_number', 'online_order']\n",
    "fig = plt.figure(figsize=(7,5))\n",
    "for index, col in enumerate(cols):\n",
    "    plt.subplot(2,2, index+1)\n",
    "    sns.countplot(data = cred_data, x=cred_data[col])\n",
    "fig.tight_layout(pad=1.0)"
   ]
  },
  {
   "cell_type": "code",
   "execution_count": 6,
   "id": "940d7c6f-c6e0-4504-8e27-11b75e5c1ad0",
   "metadata": {},
   "outputs": [
    {
     "data": {
      "text/html": [
       "<div>\n",
       "<style scoped>\n",
       "    .dataframe tbody tr th:only-of-type {\n",
       "        vertical-align: middle;\n",
       "    }\n",
       "\n",
       "    .dataframe tbody tr th {\n",
       "        vertical-align: top;\n",
       "    }\n",
       "\n",
       "    .dataframe thead th {\n",
       "        text-align: right;\n",
       "    }\n",
       "</style>\n",
       "<table border=\"1\" class=\"dataframe\">\n",
       "  <thead>\n",
       "    <tr style=\"text-align: right;\">\n",
       "      <th></th>\n",
       "      <th>distance_from_home</th>\n",
       "      <th>distance_from_last_transaction</th>\n",
       "      <th>ratio_to_median_purchase_price</th>\n",
       "      <th>repeat_retailer</th>\n",
       "      <th>used_chip</th>\n",
       "      <th>used_pin_number</th>\n",
       "      <th>online_order</th>\n",
       "      <th>fraud</th>\n",
       "    </tr>\n",
       "  </thead>\n",
       "  <tbody>\n",
       "    <tr>\n",
       "      <th>distance_from_home</th>\n",
       "      <td>1.000000</td>\n",
       "      <td>0.000193</td>\n",
       "      <td>-0.001374</td>\n",
       "      <td>0.143124</td>\n",
       "      <td>-0.000697</td>\n",
       "      <td>-0.001622</td>\n",
       "      <td>-0.001301</td>\n",
       "      <td>0.187571</td>\n",
       "    </tr>\n",
       "    <tr>\n",
       "      <th>distance_from_last_transaction</th>\n",
       "      <td>0.000193</td>\n",
       "      <td>1.000000</td>\n",
       "      <td>0.001013</td>\n",
       "      <td>-0.000928</td>\n",
       "      <td>0.002055</td>\n",
       "      <td>-0.000899</td>\n",
       "      <td>0.000141</td>\n",
       "      <td>0.091917</td>\n",
       "    </tr>\n",
       "    <tr>\n",
       "      <th>ratio_to_median_purchase_price</th>\n",
       "      <td>-0.001374</td>\n",
       "      <td>0.001013</td>\n",
       "      <td>1.000000</td>\n",
       "      <td>0.001374</td>\n",
       "      <td>0.000587</td>\n",
       "      <td>0.000942</td>\n",
       "      <td>-0.000330</td>\n",
       "      <td>0.462305</td>\n",
       "    </tr>\n",
       "    <tr>\n",
       "      <th>repeat_retailer</th>\n",
       "      <td>0.143124</td>\n",
       "      <td>-0.000928</td>\n",
       "      <td>0.001374</td>\n",
       "      <td>1.000000</td>\n",
       "      <td>-0.001345</td>\n",
       "      <td>-0.000417</td>\n",
       "      <td>-0.000532</td>\n",
       "      <td>-0.001357</td>\n",
       "    </tr>\n",
       "    <tr>\n",
       "      <th>used_chip</th>\n",
       "      <td>-0.000697</td>\n",
       "      <td>0.002055</td>\n",
       "      <td>0.000587</td>\n",
       "      <td>-0.001345</td>\n",
       "      <td>1.000000</td>\n",
       "      <td>-0.001393</td>\n",
       "      <td>-0.000219</td>\n",
       "      <td>-0.060975</td>\n",
       "    </tr>\n",
       "    <tr>\n",
       "      <th>used_pin_number</th>\n",
       "      <td>-0.001622</td>\n",
       "      <td>-0.000899</td>\n",
       "      <td>0.000942</td>\n",
       "      <td>-0.000417</td>\n",
       "      <td>-0.001393</td>\n",
       "      <td>1.000000</td>\n",
       "      <td>-0.000291</td>\n",
       "      <td>-0.100293</td>\n",
       "    </tr>\n",
       "    <tr>\n",
       "      <th>online_order</th>\n",
       "      <td>-0.001301</td>\n",
       "      <td>0.000141</td>\n",
       "      <td>-0.000330</td>\n",
       "      <td>-0.000532</td>\n",
       "      <td>-0.000219</td>\n",
       "      <td>-0.000291</td>\n",
       "      <td>1.000000</td>\n",
       "      <td>0.191973</td>\n",
       "    </tr>\n",
       "    <tr>\n",
       "      <th>fraud</th>\n",
       "      <td>0.187571</td>\n",
       "      <td>0.091917</td>\n",
       "      <td>0.462305</td>\n",
       "      <td>-0.001357</td>\n",
       "      <td>-0.060975</td>\n",
       "      <td>-0.100293</td>\n",
       "      <td>0.191973</td>\n",
       "      <td>1.000000</td>\n",
       "    </tr>\n",
       "  </tbody>\n",
       "</table>\n",
       "</div>"
      ],
      "text/plain": [
       "                                distance_from_home  \\\n",
       "distance_from_home                        1.000000   \n",
       "distance_from_last_transaction            0.000193   \n",
       "ratio_to_median_purchase_price           -0.001374   \n",
       "repeat_retailer                           0.143124   \n",
       "used_chip                                -0.000697   \n",
       "used_pin_number                          -0.001622   \n",
       "online_order                             -0.001301   \n",
       "fraud                                     0.187571   \n",
       "\n",
       "                                distance_from_last_transaction  \\\n",
       "distance_from_home                                    0.000193   \n",
       "distance_from_last_transaction                        1.000000   \n",
       "ratio_to_median_purchase_price                        0.001013   \n",
       "repeat_retailer                                      -0.000928   \n",
       "used_chip                                             0.002055   \n",
       "used_pin_number                                      -0.000899   \n",
       "online_order                                          0.000141   \n",
       "fraud                                                 0.091917   \n",
       "\n",
       "                                ratio_to_median_purchase_price  \\\n",
       "distance_from_home                                   -0.001374   \n",
       "distance_from_last_transaction                        0.001013   \n",
       "ratio_to_median_purchase_price                        1.000000   \n",
       "repeat_retailer                                       0.001374   \n",
       "used_chip                                             0.000587   \n",
       "used_pin_number                                       0.000942   \n",
       "online_order                                         -0.000330   \n",
       "fraud                                                 0.462305   \n",
       "\n",
       "                                repeat_retailer  used_chip  used_pin_number  \\\n",
       "distance_from_home                     0.143124  -0.000697        -0.001622   \n",
       "distance_from_last_transaction        -0.000928   0.002055        -0.000899   \n",
       "ratio_to_median_purchase_price         0.001374   0.000587         0.000942   \n",
       "repeat_retailer                        1.000000  -0.001345        -0.000417   \n",
       "used_chip                             -0.001345   1.000000        -0.001393   \n",
       "used_pin_number                       -0.000417  -0.001393         1.000000   \n",
       "online_order                          -0.000532  -0.000219        -0.000291   \n",
       "fraud                                 -0.001357  -0.060975        -0.100293   \n",
       "\n",
       "                                online_order     fraud  \n",
       "distance_from_home                 -0.001301  0.187571  \n",
       "distance_from_last_transaction      0.000141  0.091917  \n",
       "ratio_to_median_purchase_price     -0.000330  0.462305  \n",
       "repeat_retailer                    -0.000532 -0.001357  \n",
       "used_chip                          -0.000219 -0.060975  \n",
       "used_pin_number                    -0.000291 -0.100293  \n",
       "online_order                        1.000000  0.191973  \n",
       "fraud                               0.191973  1.000000  "
      ]
     },
     "execution_count": 6,
     "metadata": {},
     "output_type": "execute_result"
    }
   ],
   "source": [
    "cred_data.corr() # correlation between attributes"
   ]
  },
  {
   "cell_type": "markdown",
   "id": "317ed1a2-c2d7-4c69-a6ad-3d8fb21402c7",
   "metadata": {},
   "source": [
    "## DIFFERENTIAL PRIVACY"
   ]
  },
  {
   "cell_type": "markdown",
   "id": "db2251dd-853a-4147-9eda-0469da994a42",
   "metadata": {},
   "source": [
    "<p><font face='Verdana' >In credit card fraud detection, applying differential privacy to sensitive features like transaction distances, spending ratios, and transaction methods enhances privacy protection without sacrificing detection accuracy. By adding carefully calibrated noise to these features, differential privacy prevents the disclosure of individual transaction details while still allowing for effective fraud detection. This ensures compliance with privacy regulations and safeguards cardholders' sensitive information, thus fostering trust in the credit card system's security measures.</font></p>"
   ]
  },
  {
   "cell_type": "code",
   "execution_count": 13,
   "id": "c4e43855-4b79-4ed1-8280-1d5c3f9a31f3",
   "metadata": {},
   "outputs": [],
   "source": [
    "# Defining class Differential Privacy\n",
    "class DifferentialPrivacy:\n",
    "    def __init__(self, epsilon):\n",
    "        self.epsilon = epsilon\n",
    "\n",
    "    # Initializing function laplace mechanism\n",
    "    def laplace_mechanism(self, data):\n",
    "        sensitivity = 1 \n",
    "        beta = sensitivity / self.epsilon\n",
    "        noise_shape = data.shape\n",
    "        noise = np.random.laplace(0, beta, noise_shape)\n",
    "        return data + noise\n",
    "\n",
    "    # Initializing function exponential mechanism\n",
    "    def exponential_mechanism(self, data, k=1):\n",
    "        scores = np.random.exponential(scale=1/self.epsilon, size=len(data))\n",
    "        selected_indices = np.argsort(scores)[:k]\n",
    "        return data[selected_indices]"
   ]
  },
  {
   "cell_type": "code",
   "execution_count": 14,
   "id": "ce807092-7dbc-43f5-b3d4-dac65909e99d",
   "metadata": {},
   "outputs": [],
   "source": [
    "privacy_list = ['repeat_retailer', 'used_chip', 'used_pin_number', 'online_order'] # containing the specified attributes\n",
    "\n",
    "# Specifying the privacy (epsilon) value\n",
    "epsilon = 3.0\n",
    "dp = DifferentialPrivacy(epsilon) # Initializing the Differential Privacy object with epsilon value\n",
    "\n",
    "# Applying differenial privacy to each attributes specify in the privacy list\n",
    "for list in privacy_list:\n",
    "    privacy_data = cred_data[list].values\n",
    "    noisy_privacy_data = dp.laplace_mechanism(privacy_data) # Applying the Laplace mechanism to the attribute's data\n",
    "    cred_data[list] = noisy_privacy_data  # Updating the data with the noisy attribute data"
   ]
  },
  {
   "cell_type": "code",
   "execution_count": 15,
   "id": "dc25e34c-330d-424c-b6df-cafdb6619e5d",
   "metadata": {},
   "outputs": [],
   "source": [
    "privacy_list = ['repeat_retailer', 'used_chip', 'used_pin_number', 'online_order']\n",
    "for list1 in privacy_list:\n",
    "    privacy_data1 = cred_data[list].values\n",
    "    epsilon = 1.0\n",
    "    dp = DifferentialPrivacy(epsilon)\n",
    "    noisy_privacy_data1 = dp.exponential_mechanism(privacy_data1, k=1000000)\n",
    "    cred_data[list] = noisy_privacy_data1"
   ]
  },
  {
   "cell_type": "code",
   "execution_count": 16,
   "id": "77044d6e-d64b-4b68-a909-3bf48e112f97",
   "metadata": {},
   "outputs": [
    {
     "name": "stdout",
     "output_type": "stream",
     "text": [
      "Original Privacy Data: [0 0 1 ... 1 1 1]\n",
      "Noisy Privacy Data: [-0.06387718 -0.30524256  0.95035487 ...  0.59635748  1.23345248\n",
      "  1.62501384]\n"
     ]
    }
   ],
   "source": [
    "print(\"Original Privacy Data:\", privacy_data)\n",
    "print(\"Noisy Privacy Data:\", noisy_privacy_data)"
   ]
  },
  {
   "cell_type": "code",
   "execution_count": 17,
   "id": "49aa2f99-0a11-4594-8b0a-fe57872645c7",
   "metadata": {},
   "outputs": [
    {
     "name": "stdout",
     "output_type": "stream",
     "text": [
      "Original Privacy Data: [ 0.70888513 -0.50346204  1.03003474 ...  0.99623778  0.39658624\n",
      " -0.52391625]\n",
      "Noisy Privacy Data: [ 0.99511339 -0.00344031  1.05928185 ...  0.70204695  0.08298456\n",
      "  1.286682  ]\n"
     ]
    }
   ],
   "source": [
    "print(\"Original Privacy Data:\", privacy_data1)\n",
    "print(\"Noisy Privacy Data:\", noisy_privacy_data1)"
   ]
  },
  {
   "cell_type": "markdown",
   "id": "6b065dba-ca17-48dd-b631-137517441fea",
   "metadata": {},
   "source": [
    "<p><font face='Verdana'>Differential privacy, using methods like Laplace and exponential noise, adds randomness to sensitive attributes in the privacy list, safeguarding individual information. This is crucial in credit card fraud detection, ensuring privacy compliance and maintaining user trust by protecting transaction details. It helps balance data utility with strict privacy needs, making fraud detection systems more secure.</font></p>"
   ]
  },
  {
   "cell_type": "code",
   "execution_count": 18,
   "id": "b2be146d-73f9-47e6-b8cd-2bae9d2730c5",
   "metadata": {},
   "outputs": [
    {
     "name": "stdout",
     "output_type": "stream",
     "text": [
      "Utility Score: 0.864348801239346\n"
     ]
    }
   ],
   "source": [
    "def mechanism_score(original_data, noisy_data):\n",
    "    scores = np.exp(-np.abs(original_data - noisy_data))\n",
    "    probabilities = scores / np.sum(scores)\n",
    "    threshold = 0.5\n",
    "    utility_score = np.sum(probabilities[np.abs(original_data - noisy_data) < threshold])\n",
    "    return utility_score\n",
    "\n",
    "utility_score = mechanism_score(privacy_data, noisy_privacy_data)\n",
    "print(\"Utility Score:\", utility_score)"
   ]
  },
  {
   "cell_type": "code",
   "execution_count": 19,
   "id": "2babea77-2e17-475c-9f0c-f5e229e7193f",
   "metadata": {},
   "outputs": [
    {
     "name": "stdout",
     "output_type": "stream",
     "text": [
      "Utility Score: 0.6072382599249282\n"
     ]
    }
   ],
   "source": [
    "def mechanism_score(original_data, noisy_data):\n",
    "    scores = np.exp(-np.abs(original_data - noisy_data))\n",
    "    probabilities = scores / np.sum(scores)\n",
    "    threshold = 0.5\n",
    "    utility_score = np.sum(probabilities[np.abs(original_data - noisy_data) < threshold])\n",
    "    return utility_score\n",
    "\n",
    "utility_score = mechanism_score(privacy_data1, noisy_privacy_data1)\n",
    "print(\"Utility Score:\", utility_score)"
   ]
  },
  {
   "cell_type": "code",
   "execution_count": 20,
   "id": "67d1f8e7-e30b-46e1-b67e-ee5488cc8e0e",
   "metadata": {},
   "outputs": [
    {
     "name": "stdout",
     "output_type": "stream",
     "text": [
      "Mean Squared Error (MSE): 0.22267688449365\n"
     ]
    }
   ],
   "source": [
    "from sklearn.metrics import mean_squared_error\n",
    "mse = mean_squared_error(privacy_data, noisy_privacy_data)\n",
    "print(\"Mean Squared Error (MSE):\", mse)"
   ]
  },
  {
   "cell_type": "markdown",
   "id": "ccd3b28b-42c9-4c49-a71d-ff1698431800",
   "metadata": {},
   "source": [
    "<p><font face='Verdana'>A Mean Squared Error (MSE) value of 0.22 indicates the average squared difference between the original data and the data after applying differential privacy using the laplace mechanism.\n",
    "\n",
    "A MSE value of 0.22 suggests that, on average, the noisy data obtained after applying differential privacy with the exponential mechanism deviates from the original data by approximately 0.22 units squared.\n",
    "\n",
    "This value can help you gauge the extent to which the laplace mechanism affects the utility of the data. Lower MSE values indicate smaller deviations and thus better preservation of data utility, while higher values indicate larger deviations and potentially greater loss of utility.</font></p>"
   ]
  },
  {
   "cell_type": "code",
   "execution_count": 21,
   "id": "be74759c-9a53-442c-bbce-fe4cf0d4bf51",
   "metadata": {},
   "outputs": [
    {
     "name": "stdout",
     "output_type": "stream",
     "text": [
      "Preserved Percentage: 77.6335\n"
     ]
    }
   ],
   "source": [
    "threshold = 0.5\n",
    "preserved_ratio = np.mean(np.abs(privacy_data - noisy_privacy_data) < threshold)\n",
    "preserved_percentage = preserved_ratio * 100\n",
    "print(\"Preserved Percentage:\", preserved_percentage)"
   ]
  },
  {
   "cell_type": "markdown",
   "id": "4f9e6d70-d24c-4679-acc8-8423dc40c847",
   "metadata": {},
   "source": [
    "<p><font face='Verdana'>A preserved percentage of approximately 77% indicates that a significant portion of the data points have been preserved within the specified threshold after applying differential privacy.\n",
    "    \n",
    "This suggests that the differential privacy mechanism, as implemented, has successfully preserved most of the original data while still providing privacy guarantees. \n",
    "\n",
    "A high preserved percentage like this is generally desirable, as it indicates that the utility of the data has been maintained to a large extent despite the privacy-preserving transformation. </font></p>"
   ]
  },
  {
   "cell_type": "markdown",
   "id": "68fd57fb-e127-4263-b2dc-a7a072dfbc40",
   "metadata": {},
   "source": [
    "<p><font face='Verdana'>In this credit card fraud detection project, differential privacy secures the data by adding calibrated noise, making it harder for unauthorized access to extract sensitive information. By controlling the amount of noise added with a privacy budget, it balances privacy protection with data utility for effective fraud detection. This approach ensures compliance with regulations, mitigates privacy risks, and maintains trust with customers regarding data handling.</font></p>"
   ]
  },
  {
   "cell_type": "code",
   "execution_count": 22,
   "id": "9aea43a1",
   "metadata": {},
   "outputs": [],
   "source": [
    "from sklearn.model_selection import train_test_split"
   ]
  },
  {
   "cell_type": "code",
   "execution_count": 23,
   "id": "51f535a4",
   "metadata": {},
   "outputs": [],
   "source": [
    "x = cred_data.iloc[0:50000, :-1]\n",
    "y = cred_data.iloc[0:50000, -1:]"
   ]
  },
  {
   "cell_type": "code",
   "execution_count": 24,
   "id": "61107a8c",
   "metadata": {},
   "outputs": [
    {
     "data": {
      "text/plain": [
       "fraud\n",
       "0        45683\n",
       "1         4317\n",
       "Name: count, dtype: int64"
      ]
     },
     "execution_count": 24,
     "metadata": {},
     "output_type": "execute_result"
    }
   ],
   "source": [
    "y.value_counts()"
   ]
  },
  {
   "cell_type": "code",
   "execution_count": 25,
   "id": "130222f7",
   "metadata": {},
   "outputs": [],
   "source": [
    "from imblearn.over_sampling import SMOTE\n",
    "sm = SMOTE()\n",
    "x,y = sm.fit_resample(x,y)"
   ]
  },
  {
   "cell_type": "code",
   "execution_count": 26,
   "id": "b2dca4f7",
   "metadata": {},
   "outputs": [
    {
     "data": {
      "text/plain": [
       "fraud\n",
       "0        45683\n",
       "1        45683\n",
       "Name: count, dtype: int64"
      ]
     },
     "execution_count": 26,
     "metadata": {},
     "output_type": "execute_result"
    }
   ],
   "source": [
    "y.value_counts()"
   ]
  },
  {
   "cell_type": "code",
   "execution_count": 27,
   "id": "e19d7db2",
   "metadata": {},
   "outputs": [
    {
     "data": {
      "text/plain": [
       "array([[ 13.41401899, -15.76638658,  10.43858103, ...,  -4.60647671,\n",
       "          5.38169899,   8.41148502],\n",
       "       [ -0.42129072,   0.66739943,   2.13323048, ...,   7.94190746,\n",
       "         11.0553092 ,   3.69280215],\n",
       "       [ 23.33250638,  20.30779151,  31.19996983, ...,  11.94843281,\n",
       "         -6.57332121,   0.87768275],\n",
       "       ...,\n",
       "       [409.44463147,  17.01881828,   0.48138094, ...,  13.44116354,\n",
       "          9.93762716,   3.60330314],\n",
       "       [107.21803268,  13.80986662,   2.7297188 , ...,   8.31514162,\n",
       "          2.2556093 ,   5.23521621],\n",
       "       [ 18.76461282, -18.84114646, -10.85957098, ...,  16.49350661,\n",
       "          2.97952063,   2.82765593]])"
      ]
     },
     "execution_count": 27,
     "metadata": {},
     "output_type": "execute_result"
    }
   ],
   "source": [
    "x_train, x_test, y_train, y_test = train_test_split(x, y, test_size=0.2, random_state=42)\n",
    "epsilon = 0.1\n",
    "dp = DifferentialPrivacy(epsilon)\n",
    "x_train_noisy = dp.laplace_mechanism(x_train.values)\n",
    "x_train_noisy"
   ]
  },
  {
   "cell_type": "code",
   "execution_count": 28,
   "id": "ce743a78-50d5-4e75-acd9-0bb0830fe62e",
   "metadata": {},
   "outputs": [
    {
     "data": {
      "text/plain": [
       "array([[ 1.06764720e+00,  9.52881745e-01,  4.48686987e+00, ...,\n",
       "         6.05945086e-01, -3.45807748e-01,  1.52857029e+00],\n",
       "       [ 1.69893695e+02,  4.51808427e-01,  2.58408538e+00, ...,\n",
       "         5.70385411e-01,  9.72851638e-03,  1.36914875e+00],\n",
       "       [ 3.28742145e+01,  2.97563262e+00,  3.02875152e+00, ...,\n",
       "         1.06134539e+00,  2.05465990e-01,  1.03502621e+00],\n",
       "       ...,\n",
       "       [ 1.06874286e+02,  3.43274542e+00,  3.98288526e+00, ...,\n",
       "         1.29629635e+00, -6.09486237e-01,  1.20388718e+00],\n",
       "       [ 4.31555693e+01,  4.67634699e+00,  1.22085186e-01, ...,\n",
       "         3.57114139e-01,  9.59008350e-01,  6.39991067e-01],\n",
       "       [ 1.19713442e+01,  1.31186136e-01,  6.99273720e-02, ...,\n",
       "         1.94132667e-01, -1.85715539e-01,  4.79541709e-01]])"
      ]
     },
     "execution_count": 28,
     "metadata": {},
     "output_type": "execute_result"
    }
   ],
   "source": [
    "x_train_1, x_test_1, y_train_1, y_test_1 = train_test_split(x, y, test_size=0.2, random_state=42)\n",
    "epsilon = 0.1\n",
    "dp = DifferentialPrivacy(epsilon)\n",
    "x_train_noisy_1 = dp.exponential_mechanism(x_train_1.values, k=1000000)\n",
    "x_train_noisy_1"
   ]
  },
  {
   "cell_type": "code",
   "execution_count": 29,
   "id": "f0b08e53",
   "metadata": {},
   "outputs": [],
   "source": [
    "from sklearn.linear_model import LogisticRegression\n",
    "from sklearn.tree import DecisionTreeClassifier\n",
    "from sklearn.ensemble import RandomForestClassifier\n",
    "from sklearn.metrics import accuracy_score, ConfusionMatrixDisplay, classification_report, confusion_matrix"
   ]
  },
  {
   "cell_type": "markdown",
   "id": "83795409-6e72-453a-b109-24f06285fed5",
   "metadata": {},
   "source": [
    "### MODEL PREDICTION ON LAPLACE MECHANISM"
   ]
  },
  {
   "cell_type": "code",
   "execution_count": 36,
   "id": "e1cb4473-4d6a-4676-b615-b9aaea37444c",
   "metadata": {},
   "outputs": [
    {
     "name": "stdout",
     "output_type": "stream",
     "text": [
      "--RANDOM FOREST CLASSIFIER ACCURACY--:  0.7785378132866367\n"
     ]
    }
   ],
   "source": [
    "# RANDOM FOREST\n",
    "\n",
    "rf = RandomForestClassifier()\n",
    "clf_rf = rf.fit(x_train_noisy, y_train)\n",
    "y_pred = clf_rf.predict(x_test)\n",
    "acc2 = accuracy_score(y_test, y_pred)\n",
    "print('--RANDOM FOREST CLASSIFIER ACCURACY--: ', acc2)"
   ]
  },
  {
   "cell_type": "code",
   "execution_count": 37,
   "id": "3fa1c469-ac43-44b2-ba7c-392570c7a41d",
   "metadata": {},
   "outputs": [
    {
     "name": "stdout",
     "output_type": "stream",
     "text": [
      "--DECISION TREE ACCURACY--:  0.6153004268359418\n"
     ]
    }
   ],
   "source": [
    "# DECISION TREE CLASSIFIER\n",
    "\n",
    "dt = DecisionTreeClassifier()\n",
    "clf_dt = dt.fit(x_train_noisy, y_train)\n",
    "y_pred = clf_dt.predict(x_test)\n",
    "acc3 = accuracy_score(y_test, y_pred)\n",
    "print('--DECISION TREE ACCURACY--: ', acc3)"
   ]
  },
  {
   "cell_type": "code",
   "execution_count": 38,
   "id": "c53e0701-bb81-4140-ad2f-2b9067b74136",
   "metadata": {},
   "outputs": [
    {
     "name": "stdout",
     "output_type": "stream",
     "text": [
      "--LOGISTIC REGRESSION ACCURACY--:  0.672485498522491\n"
     ]
    }
   ],
   "source": [
    "# LOGISTIC REGRESSION\n",
    "\n",
    "log = LogisticRegression()\n",
    "clf_log = log.fit(x_train_noisy, y_train)\n",
    "y_pred = clf_log.predict(x_test)\n",
    "acc3 = accuracy_score(y_test, y_pred)\n",
    "print('--LOGISTIC REGRESSION ACCURACY--: ', acc3)"
   ]
  },
  {
   "cell_type": "markdown",
   "id": "96cadc07-2f37-4f59-a5bf-52969d6b7219",
   "metadata": {},
   "source": [
    "### MODEL PREDICTION ON EXPONENTIAL MECHANISM"
   ]
  },
  {
   "cell_type": "code",
   "execution_count": 39,
   "id": "47c5aa66-f5a1-44da-82e1-6491d02813d0",
   "metadata": {},
   "outputs": [
    {
     "name": "stdout",
     "output_type": "stream",
     "text": [
      "--RANDOM FOREST CLASSIFIER ACCURACY--:  0.3245594834190653\n"
     ]
    }
   ],
   "source": [
    "rf = RandomForestClassifier()\n",
    "clf_rf = rf.fit(x_train_noisy_1, y_train_1)\n",
    "y_pred_1 = clf_rf.predict(x_test_1)\n",
    "acc2 = accuracy_score(y_test_1, y_pred1)\n",
    "print('--RANDOM FOREST CLASSIFIER ACCURACY--: ', acc2)"
   ]
  },
  {
   "cell_type": "code",
   "execution_count": 40,
   "id": "d89bd00b-4d73-45b5-b3c3-0601a7573097",
   "metadata": {},
   "outputs": [
    {
     "name": "stdout",
     "output_type": "stream",
     "text": [
      "--DECISION TREE ACCURACY--:  0.5044872496443034\n"
     ]
    }
   ],
   "source": [
    "dt = DecisionTreeClassifier()\n",
    "clf_dt = dt.fit(x_train_noisy_1, y_train_1)\n",
    "y_pred_1 = clf_dt.predict(x_test_1)\n",
    "acc3 = accuracy_score(y_test_1, y_pred_1)\n",
    "print('--DECISION TREE ACCURACY--: ', acc3)"
   ]
  },
  {
   "cell_type": "code",
   "execution_count": 42,
   "id": "c86e79e2-9833-4853-b0aa-400ad5dce2ed",
   "metadata": {},
   "outputs": [
    {
     "name": "stdout",
     "output_type": "stream",
     "text": [
      "--LOGISTIC REGRESSION ACCURACY--:  0.3245594834190653\n"
     ]
    }
   ],
   "source": [
    "log = LogisticRegression()\n",
    "clf_log = log.fit(x_train_noisy_1, y_train_1)\n",
    "y_pred_1 = clf_log.predict(x_test_1)\n",
    "acc3 = accuracy_score(y_test_1, y_pred_1)\n",
    "print('--LOGISTIC REGRESSION ACCURACY--: ', acc3)"
   ]
  },
  {
   "cell_type": "code",
   "execution_count": 55,
   "id": "b1f8eec9-6d70-411e-ad5c-5e403eddc658",
   "metadata": {},
   "outputs": [
    {
     "name": "stderr",
     "output_type": "stream",
     "text": [
      "No artists with labels found to put in legend.  Note that artists whose label start with an underscore are ignored when legend() is called with no argument.\n"
     ]
    },
    {
     "data": {
      "image/png": "[encoded data removed]",
      "text/plain": [
       "<Figure size 640x480 with 1 Axes>"
      ]
     },
     "metadata": {},
     "output_type": "display_data"
    }
   ],
   "source": [
    "# ROC Curve Display\n",
    "from sklearn import metrics\n",
    "fpr, tpr, thresholds = metrics.roc_curve(y_test, y_pred)\n",
    "roc_auc = metrics.auc(fpr, tpr)\n",
    "display = metrics.RocCurveDisplay(fpr=fpr, tpr=tpr)\n",
    "display.plot()\n",
    "plt.show()"
   ]
  },
  {
   "cell_type": "markdown",
   "id": "530570fc-43b1-4f3d-b0f6-a711ff4ff3da",
   "metadata": {},
   "source": [
    "### Gradio App"
   ]
  },
  {
   "cell_type": "code",
   "execution_count": 30,
   "id": "5dd9a42e-0aac-4cc7-846c-ea4fb7a81186",
   "metadata": {},
   "outputs": [],
   "source": [
    "import pyttsx3"
   ]
  },
  {
   "cell_type": "code",
   "execution_count": 31,
   "id": "b948f29c-47e0-426c-8e63-6f60f2f01393",
   "metadata": {},
   "outputs": [],
   "source": [
    "def speak_text(text):\n",
    "    engine = pyttsx3.init()\n",
    "    engine.say(text)\n",
    "    engine.runAndWait()"
   ]
  },
  {
   "cell_type": "code",
   "execution_count": 32,
   "id": "dc5e7504-c65c-44ad-b629-6d8b34e32c96",
   "metadata": {},
   "outputs": [],
   "source": [
    "def load_fraud_detection_model():\n",
    "    model = RandomForestClassifier()\n",
    "    model.fit(x_train, y_train)\n",
    "    return model"
   ]
  },
  {
   "cell_type": "code",
   "execution_count": 33,
   "id": "1cc9d90c-cbbe-42f8-94d8-f822d208e4e2",
   "metadata": {},
   "outputs": [],
   "source": [
    "def predict_fraud(model, input_data):\n",
    "    prediction = model.predict(input_data)\n",
    "    return prediction"
   ]
  },
  {
   "cell_type": "code",
   "execution_count": 34,
   "id": "0fade7fa-0681-46ff-a228-606fcd5deb0c",
   "metadata": {},
   "outputs": [
    {
     "name": "stdout",
     "output_type": "stream",
     "text": [
      "Running on local URL:  http://127.0.0.1:7860\n",
      "\n",
      "To create a public link, set `share=True` in `launch()`.\n"
     ]
    },
    {
     "data": {
      "text/html": [
       "<div><iframe src=\"http://127.0.0.1:7860/\" width=\"100%\" height=\"500\" allow=\"autoplay; camera; microphone; clipboard-read; clipboard-write;\" frameborder=\"0\" allowfullscreen></iframe></div>"
      ],
      "text/plain": [
       "<IPython.core.display.HTML object>"
      ]
     },
     "metadata": {},
     "output_type": "display_data"
    },
    {
     "data": {
      "text/plain": []
     },
     "execution_count": 34,
     "metadata": {},
     "output_type": "execute_result"
    }
   ],
   "source": [
    "import gradio as gr\n",
    "fraud_detection_model = load_fraud_detection_model()\n",
    "\n",
    "input_columns = ['distance_from_home', 'distance_from_last_transaction',\n",
    "                  'ratio_to_median_purchase_price', 'repeat_retailer',\n",
    "                  'used_chip', 'used_pin_number', 'online_order']\n",
    "inputs = [gr.Textbox(label=col.replace('_', ' ').title()) for col in input_columns]\n",
    "outputs = gr.Textbox(label=\"Fraud Prediction\")\n",
    "\n",
    "def predict_fraud_wrapper(*input_values):\n",
    "    input_data = np.array(input_values).reshape(1, -1)\n",
    "    prediction = predict_fraud(fraud_detection_model, input_data)\n",
    "    result_text = \"Fraud Detected\" if prediction == 1 else \"No Fraud\"\n",
    "    speak_text(result_text)\n",
    "    return result_text\n",
    "\n",
    "interface = gr.Interface(fn=predict_fraud_wrapper, inputs=inputs, outputs=outputs,\n",
    "                         title=\"Credit Card Fraud Detector\", description=\"Predict fraud based on credit card features.\")\n",
    "\n",
    "interface.launch()"
   ]
  },
  {
   "cell_type": "code",
   "execution_count": 61,
   "id": "26d1729a-6bf0-4576-a04c-c0937cfa34c6",
   "metadata": {},
   "outputs": [
    {
     "name": "stdout",
     "output_type": "stream",
     "text": [
      "Closing server running on port: 7860\n"
     ]
    }
   ],
   "source": [
    "interface.close()"
   ]
  },
  {
   "cell_type": "code",
   "execution_count": null,
   "id": "41822eaa-9db1-478a-84c9-cf75cda7365b",
   "metadata": {},
   "outputs": [],
   "source": []
  }
 ],
 "metadata": {
  "kernelspec": {
   "display_name": "Python 3 (ipykernel)",
   "language": "python",
   "name": "python3"
  },
  "language_info": {
   "codemirror_mode": {
    "name": "ipython",
    "version": 3
   },
   "file_extension": ".py",
   "mimetype": "text/x-python",
   "name": "python",
   "nbconvert_exporter": "python",
   "pygments_lexer": "ipython3",
   "version": "3.11.5"
  }
 },
 "nbformat": 4,
 "nbformat_minor": 5
}
